{
    "metadata": {
        "kernelspec": {
            "name": "SQL",
            "display_name": "SQL",
            "language": "sql"
        },
        "language_info": {
            "name": "sql",
            "version": ""
        }
    },
    "nbformat_minor": 2,
    "nbformat": 4,
    "cells": [
        {
            "cell_type": "code",
            "source": [
                "CREATE SCHEMA silage;\n",
                "GO"
            ],
            "metadata": {
                "azdata_cell_guid": "f7fab1da-959a-4294-b6ef-ce39c9bd7066",
                "language": "sql",
                "tags": []
            },
            "outputs": [
                {
                    "output_type": "display_data",
                    "data": {
                        "text/html": "Commands completed successfully."
                    },
                    "metadata": {}
                },
                {
                    "output_type": "display_data",
                    "data": {
                        "text/html": "Total execution time: 00:00:00.011"
                    },
                    "metadata": {}
                }
            ],
            "execution_count": 10
        },
        {
            "cell_type": "code",
            "source": [
                "CREATE TABLE Customers (\n",
                "    CustomerID INT PRIMARY KEY IDENTITY(1,1),\n",
                "    FirstName NVARCHAR(50) NOT NULL,\n",
                "    LastName NVARCHAR(50) NOT NULL,\n",
                "    Email NVARCHAR(100) UNIQUE NOT NULL,\n",
                "    PhoneNumber NVARCHAR(15),\n",
                "    DateOfBirth DATE,\n",
                "    CreatedAt DATETIME DEFAULT GETDATE(),\n",
                "    IsActive BIT DEFAULT 1\n",
                ");\n",
                "\n",
                "-- Insert sample data into Customers table\n",
                "INSERT INTO Customers (FirstName, LastName, Email, PhoneNumber, DateOfBirth)\n",
                "VALUES \n",
                "    ('John', 'Doe', 'john.doe@example.com', '123-456-7890', '1985-07-15'),\n",
                "    ('Jane', 'Smith', 'jane.smith@example.com', '234-567-8901', '1990-03-22'),\n",
                "    ('Alice', 'Johnson', 'alice.johnson@example.com', '345-678-9012', '1995-05-30');\n",
                "\n",
                "-- Query to check data in Customers table\n",
                "SELECT * FROM Customers;"
            ],
            "metadata": {
                "azdata_cell_guid": "164d38a5-17ac-4691-acff-55397fade683",
                "language": "sql"
            },
            "outputs": [
                {
                    "output_type": "display_data",
                    "data": {
                        "text/html": "(3 rows affected)"
                    },
                    "metadata": {}
                },
                {
                    "output_type": "display_data",
                    "data": {
                        "text/html": "(3 rows affected)"
                    },
                    "metadata": {}
                },
                {
                    "output_type": "display_data",
                    "data": {
                        "text/html": "Total execution time: 00:00:00.031"
                    },
                    "metadata": {}
                },
                {
                    "output_type": "execute_result",
                    "execution_count": 2,
                    "data": {
                        "application/vnd.dataresource+json": {
                            "schema": {
                                "fields": [
                                    {
                                        "name": "CustomerID"
                                    },
                                    {
                                        "name": "FirstName"
                                    },
                                    {
                                        "name": "LastName"
                                    },
                                    {
                                        "name": "Email"
                                    },
                                    {
                                        "name": "PhoneNumber"
                                    },
                                    {
                                        "name": "DateOfBirth"
                                    },
                                    {
                                        "name": "CreatedAt"
                                    },
                                    {
                                        "name": "IsActive"
                                    }
                                ]
                            },
                            "data": [
                                {
                                    "CustomerID": "1",
                                    "FirstName": "John",
                                    "LastName": "Doe",
                                    "Email": "john.doe@example.com",
                                    "PhoneNumber": "123-456-7890",
                                    "DateOfBirth": "1985-07-15",
                                    "CreatedAt": "2024-11-08 08:52:11.173",
                                    "IsActive": "1"
                                },
                                {
                                    "CustomerID": "2",
                                    "FirstName": "Jane",
                                    "LastName": "Smith",
                                    "Email": "jane.smith@example.com",
                                    "PhoneNumber": "234-567-8901",
                                    "DateOfBirth": "1990-03-22",
                                    "CreatedAt": "2024-11-08 08:52:11.173",
                                    "IsActive": "1"
                                },
                                {
                                    "CustomerID": "3",
                                    "FirstName": "Alice",
                                    "LastName": "Johnson",
                                    "Email": "alice.johnson@example.com",
                                    "PhoneNumber": "345-678-9012",
                                    "DateOfBirth": "1995-05-30",
                                    "CreatedAt": "2024-11-08 08:52:11.173",
                                    "IsActive": "1"
                                }
                            ]
                        },
                        "text/html": "<table><tr><th>CustomerID</th><th>FirstName</th><th>LastName</th><th>Email</th><th>PhoneNumber</th><th>DateOfBirth</th><th>CreatedAt</th><th>IsActive</th></tr><tr><td>1</td><td>John</td><td>Doe</td><td>john.doe@example.com</td><td>123-456-7890</td><td>1985-07-15</td><td>2024-11-08 08:52:11.173</td><td>1</td></tr><tr><td>2</td><td>Jane</td><td>Smith</td><td>jane.smith@example.com</td><td>234-567-8901</td><td>1990-03-22</td><td>2024-11-08 08:52:11.173</td><td>1</td></tr><tr><td>3</td><td>Alice</td><td>Johnson</td><td>alice.johnson@example.com</td><td>345-678-9012</td><td>1995-05-30</td><td>2024-11-08 08:52:11.173</td><td>1</td></tr></table>"
                    },
                    "metadata": {}
                }
            ],
            "execution_count": 2
        },
        {
            "cell_type": "code",
            "source": [
                "-- select * from mtcars;\n",
                "-- drop table Chains.sizes;\n",
                "drop SCHEMA Chains;"
            ],
            "metadata": {
                "azdata_cell_guid": "10829e41-75a4-4e62-89a5-a927bc8b058c",
                "language": "sql"
            },
            "outputs": [
                {
                    "output_type": "display_data",
                    "data": {
                        "text/html": "Commands completed successfully."
                    },
                    "metadata": {}
                },
                {
                    "output_type": "display_data",
                    "data": {
                        "text/html": "Total execution time: 00:00:00.014"
                    },
                    "metadata": {}
                }
            ],
            "execution_count": 7
        }
    ]
}